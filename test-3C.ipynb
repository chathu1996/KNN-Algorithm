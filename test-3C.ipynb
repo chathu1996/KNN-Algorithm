{
 "cells": [
  {
   "cell_type": "code",
   "execution_count": 4,
   "metadata": {},
   "outputs": [
    {
     "name": "stdout",
     "output_type": "stream",
     "text": [
      "data shape (1797, 64)\n",
      "target shape (1797,)\n",
      "images shape (1797, 8, 8)\n"
     ]
    }
   ],
   "source": [
    "from sklearn.datasets import load_digits\n",
    "\n",
    "dataset=load_digits()\n",
    "\n",
    "data=dataset.data\n",
    "target=dataset.target\n",
    "images=dataset.images\n",
    "\n",
    "print('data shape',data.shape)\n",
    "print('target shape',target.shape)\n",
    "print('images shape',images.shape)"
   ]
  },
  {
   "cell_type": "code",
   "execution_count": 7,
   "metadata": {},
   "outputs": [
    {
     "name": "stdout",
     "output_type": "stream",
     "text": [
      "target:  1\n"
     ]
    },
    {
     "data": {
      "image/png": "[encoded data removed]",
      "text/plain": [
       "<Figure size 432x288 with 1 Axes>"
      ]
     },
     "metadata": {
      "needs_background": "light"
     },
     "output_type": "display_data"
    }
   ],
   "source": [
    "from matplotlib import pyplot as plt\n",
    "\n",
    "plt.imshow(images[200],cmap=\"gray\")\n",
    "print('target: ',target[200] )"
   ]
  },
  {
   "cell_type": "code",
   "execution_count": 8,
   "metadata": {},
   "outputs": [
    {
     "data": {
      "text/plain": [
       "<matplotlib.image.AxesImage at 0x1b3e7f7ad08>"
      ]
     },
     "execution_count": 8,
     "metadata": {},
     "output_type": "execute_result"
    },
    {
     "data": {
      "image/png": "[encoded data removed]",
      "text/plain": [
       "<Figure size 432x288 with 1 Axes>"
      ]
     },
     "metadata": {
      "needs_background": "light"
     },
     "output_type": "display_data"
    }
   ],
   "source": [
    "plt.imshow(images[1000].reshape(1,64),cmap=\"gray\")"
   ]
  },
  {
   "cell_type": "code",
   "execution_count": 10,
   "metadata": {},
   "outputs": [
    {
     "name": "stdout",
     "output_type": "stream",
     "text": [
      "[[ 0.  0.  1. 14.  2.  0.  0.  0.]\n",
      " [ 0.  0.  0. 16.  5.  0.  0.  0.]\n",
      " [ 0.  0.  0. 14. 10.  0.  0.  0.]\n",
      " [ 0.  0.  0. 11. 16.  1.  0.  0.]\n",
      " [ 0.  0.  0.  3. 14.  6.  0.  0.]\n",
      " [ 0.  0.  0.  0.  8. 12.  0.  0.]\n",
      " [ 0.  0. 10. 14. 13. 16.  8.  3.]\n",
      " [ 0.  0.  2. 11. 12. 15. 16. 15.]]\n"
     ]
    }
   ],
   "source": [
    "print(images[1000])"
   ]
  },
  {
   "cell_type": "code",
   "execution_count": 11,
   "metadata": {},
   "outputs": [
    {
     "name": "stdout",
     "output_type": "stream",
     "text": [
      "[ 0.  0.  1. 14.  2.  0.  0.  0.  0.  0.  0. 16.  5.  0.  0.  0.  0.  0.\n",
      "  0. 14. 10.  0.  0.  0.  0.  0.  0. 11. 16.  1.  0.  0.  0.  0.  0.  3.\n",
      " 14.  6.  0.  0.  0.  0.  0.  0.  8. 12.  0.  0.  0.  0. 10. 14. 13. 16.\n",
      "  8.  3.  0.  0.  2. 11. 12. 15. 16. 15.]\n"
     ]
    }
   ],
   "source": [
    "print(data[1000])"
   ]
  },
  {
   "cell_type": "code",
   "execution_count": 12,
   "metadata": {},
   "outputs": [],
   "source": [
    "from sklearn.model_selection import train_test_split\n",
    "\n",
    "result=train_test_split(data,target,test_size=0.2)\n",
    "\n",
    "train_data=result[0]\n",
    "test_data=result[1]\n",
    "train_target=result[2]\n",
    "test_target=result[3]"
   ]
  },
  {
   "cell_type": "code",
   "execution_count": 13,
   "metadata": {},
   "outputs": [
    {
     "data": {
      "text/plain": [
       "KNeighborsClassifier(algorithm='auto', leaf_size=30, metric='minkowski',\n",
       "                     metric_params=None, n_jobs=None, n_neighbors=5, p=2,\n",
       "                     weights='uniform')"
      ]
     },
     "execution_count": 13,
     "metadata": {},
     "output_type": "execute_result"
    }
   ],
   "source": [
    "from sklearn.neighbors import KNeighborsClassifier\n",
    "\n",
    "model=KNeighborsClassifier()\n",
    "\n",
    "model.fit(train_data,train_target)"
   ]
  },
  {
   "cell_type": "code",
   "execution_count": 14,
   "metadata": {},
   "outputs": [
    {
     "name": "stdout",
     "output_type": "stream",
     "text": [
      "(360, 64)\n"
     ]
    }
   ],
   "source": [
    "print(test_data.shape)"
   ]
  },
  {
   "cell_type": "code",
   "execution_count": 16,
   "metadata": {},
   "outputs": [],
   "source": [
    "predicted_target=model.predict(test_data)"
   ]
  },
  {
   "cell_type": "code",
   "execution_count": 18,
   "metadata": {},
   "outputs": [
    {
     "name": "stdout",
     "output_type": "stream",
     "text": [
      "Accuracy:  0.9861111111111112\n"
     ]
    }
   ],
   "source": [
    "from sklearn.metrics import accuracy_score\n",
    "\n",
    "acc=accuracy_score(test_target,predicted_target)\n",
    "print('Accuracy: ',acc)"
   ]
  },
  {
   "cell_type": "code",
   "execution_count": 19,
   "metadata": {},
   "outputs": [
    {
     "data": {
      "text/plain": [
       "352.8"
      ]
     },
     "execution_count": 19,
     "metadata": {},
     "output_type": "execute_result"
    }
   ],
   "source": [
    "360*0.98"
   ]
  },
  {
   "cell_type": "code",
   "execution_count": 20,
   "metadata": {},
   "outputs": [
    {
     "name": "stdout",
     "output_type": "stream",
     "text": [
      "Predicted digits:  [0 4 8 1 5 0 8 9 1 1 2 7 0 6 9 5 8 6 1 5 3 6 3 9 2 3 5 1 5 6 4 4 9 6 4 9 3\n",
      " 6 3 4 8 4 9 5 8 2 1 5 8 5 0 8 6 3 2 2 0 6 3 9 8 4 2 2 0 1 5 5 6 5 5 6 5 8\n",
      " 9 7 4 7 4 2 6 5 8 9 3 4 5 1 4 7 0 9 2 2 0 5 5 6 1 6 9 8 7 6 9 3 2 2 0 0 3\n",
      " 3 0 4 7 4 8 0 6 0 2 4 5 8 3 0 7 6 2 3 0 7 1 8 0 6 8 4 2 5 9 8 0 4 7 7 7 6\n",
      " 1 1 4 7 4 5 9 5 2 1 1 1 3 0 5 9 3 3 3 4 6 2 0 0 1 5 1 3 1 8 9 8 0 6 8 1 7\n",
      " 1 9 6 0 0 8 4 4 2 6 5 7 0 4 7 1 7 1 6 3 7 7 5 1 0 4 7 6 7 8 0 7 8 6 6 2 6\n",
      " 5 0 1 7 8 3 6 8 0 0 6 5 5 4 2 0 1 4 5 6 4 1 8 5 5 1 4 9 4 4 6 4 6 1 0 9 8\n",
      " 9 5 1 7 9 4 1 3 9 1 0 9 5 4 5 2 9 2 9 4 7 6 5 2 1 9 5 3 9 6 8 3 3 0 5 9 5\n",
      " 5 3 6 0 0 8 6 5 5 4 5 7 9 7 6 6 2 1 4 3 8 2 1 2 4 7 0 5 5 8 7 7 7 7 1 6 7\n",
      " 3 2 8 8 5 0 4 1 5 6 3 7 9 3 6 0 9 4 9 6 3 3 8 8 5 6 2]\n",
      "Actual digits [0 4 8 1 5 0 8 9 1 1 2 7 0 6 9 5 8 6 1 5 3 6 3 9 2 3 5 1 5 6 4 4 9 6 4 9 3\n",
      " 6 3 4 8 4 9 5 8 2 1 5 8 5 0 8 6 3 2 2 0 6 3 9 8 4 2 2 0 1 5 5 6 5 5 6 5 8\n",
      " 9 7 4 7 4 2 6 5 8 9 3 4 5 1 4 7 0 9 2 2 0 5 5 6 1 6 9 8 7 6 9 3 2 2 0 0 3\n",
      " 3 0 4 7 4 8 0 6 0 2 4 5 8 3 0 7 6 2 3 0 7 1 8 0 6 8 4 2 5 9 8 0 4 7 7 7 6\n",
      " 1 1 4 7 4 5 9 5 2 1 1 1 3 0 5 9 3 3 3 4 6 2 0 0 1 5 1 3 1 8 9 8 0 6 8 1 7\n",
      " 1 9 6 0 0 8 4 4 2 6 5 7 0 4 7 8 7 1 6 3 7 7 5 8 0 4 7 6 7 8 0 7 8 6 6 2 6\n",
      " 5 0 1 7 8 3 6 8 0 0 6 5 5 4 2 0 1 4 5 6 4 1 8 5 5 1 4 9 4 4 6 4 6 4 0 9 8\n",
      " 9 5 1 7 9 4 1 3 9 1 0 9 5 4 5 2 9 2 9 4 7 6 5 2 1 5 5 3 9 6 8 3 3 0 5 9 5\n",
      " 5 3 6 0 0 8 6 5 5 4 5 7 9 7 6 6 2 1 4 3 8 2 1 2 4 7 0 5 5 8 7 7 3 7 1 6 7\n",
      " 3 2 8 8 5 0 4 1 5 6 3 7 9 3 6 0 9 4 9 6 3 3 8 8 5 6 2]\n"
     ]
    }
   ],
   "source": [
    "print('Predicted digits: ',predicted_target)\n",
    "print('Actual digits',test_target)"
   ]
  },
  {
   "cell_type": "code",
   "execution_count": null,
   "metadata": {},
   "outputs": [],
   "source": []
  }
 ],
 "metadata": {
  "kernelspec": {
   "display_name": "Python 3",
   "language": "python",
   "name": "python3"
  },
  "language_info": {
   "codemirror_mode": {
    "name": "ipython",
    "version": 3
   },
   "file_extension": ".py",
   "mimetype": "text/x-python",
   "name": "python",
   "nbconvert_exporter": "python",
   "pygments_lexer": "ipython3",
   "version": "3.7.6"
  }
 },
 "nbformat": 4,
 "nbformat_minor": 4
}
